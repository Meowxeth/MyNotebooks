{
 "cells": [
  {
   "cell_type": "markdown",
   "id": "0aa737e6",
   "metadata": {},
   "source": [
    "> \"Specifically, by reading this book, you will be able to:  \n",
    "> ▪ Think statistically and understand the role variation plays in your life and decision making.  \n",
    "> ▪ Become data literate—speak intelligently and ask the right questions  \n",
    "> about the statistics and results you encounter in the workplace.  \n",
    "> ▪ Understand what’s really going on with machine learning, text analytics, deep learning, and artificial intelligence.  \n",
    "> ▪ Avoid common pitfalls when working with and interpreting data.\""
   ]
  },
  {
   "cell_type": "markdown",
   "id": "8bdcf34f",
   "metadata": {},
   "source": [
    "## These were my expectations upon reading this book.  \n",
    "## While I may have good programming skills, I don't know how to think like a Data Scientist, and I want to be a good one.\n"
   ]
  },
  {
   "cell_type": "markdown",
   "id": "81510b6a",
   "metadata": {},
   "source": [
    "#### Chapter One - What is the problem?\n",
    "\n",
    "> We want you to be prepared in the right way, trained to spot project warning signs and raise concerns at the outset.  \n",
    "> With that, we introduce five questions you should ask before attacking a data problem:  \n",
    "> 1. Why is this problem important?  \n",
    "> 2. Who does this problem affect?  \n",
    "> 3. What if we don’t have the right data?  \n",
    "> 4. When is the project over?  \n",
    "> 5. What if we don’t like the results?  "
   ]
  },
  {
   "cell_type": "markdown",
   "id": "a96f57d9",
   "metadata": {},
   "source": [
    "#### My notes and thoughts\n",
    "\n",
    "These are the questions that are needed to be asked and answered before tackling a project,  \n",
    "the people that are oblivious and eager to use data technologies are often focused on two things which are clear warning signs.  \n",
    "\n",
    "Which are:   \n",
    "\n",
    "1: Methodology Focus - Using data science techniques for the sake of it. Now having a clear end goal in mind or idea for why it is important to use data science techniques which comes to:   \n",
    "\n",
    "Why is this problem important?  \n",
    "    All of us get excited for how we are going to solve the problem. But doesn't question why the problem itself is important to be solved;  \n",
    "    why does it keep you (us) up at night?\n",
    "\n",
    "2: Deliverables Focus - An example would be creating a dashboard that shows data in real-time just for the sake of it without thinking for whom it is for, which comes to:\n",
    "\n",
    "Who does this problem affect?\n",
    "    People may get too focused on how beautiful the end product may be without thinking who the product is for, and in what way it brings value to others.  \n",
    "    Or in the case of a business, to whom does this bring value to in the organization and how can they use it?  \n",
    "\n",
    "\n",
    "What if we don't have the right data?\n",
    "If we don't have the right data? Create contingencies. If the data doesnt' exist? Redefine the scope.\n",
    "\n",
    "When is the project over?\n",
    "It all depends, if we need the project to have continious maintenance and review, it could go on as long as the business needs it. But the bare minimum is to give insights.\n",
    "\n",
    "What if we don't like the results?\n",
    "All kinds of results are still results we can learn from.\n"
   ]
  },
  {
   "cell_type": "markdown",
   "id": "01cc2b7b",
   "metadata": {},
   "source": [
    "#### Chapter Two - What is Data?\n",
    "\n",
    "> In this chapter, we gave you a common language to speak about your data in the workplace. Specifically, we described:  \n",
    ">  ▪ Data, datasets, and multiple names for the rows and columns of a dataset  \n",
    ">  ▪ Numerical data (continuous vs. count)  \n",
    ">  ▪ Categorical data (ordinal vs. nominal)  \n",
    ">  ▪ Experimental vs. observational data  \n",
    ">  ▪ Structured vs. unstructured data  \n",
    ">  ▪ Measures of central tendency"
   ]
  },
  {
   "cell_type": "markdown",
   "id": "f77e86b7",
   "metadata": {},
   "source": [
    "#### My notes and thoughts\n",
    "This chapter basically showed types of data, and data terminologies, such as features (variables) and record (instance of a data/data point).  \n",
    "Simple ones, I already know.  "
   ]
  },
  {
   "cell_type": "markdown",
   "id": "0254e3a8",
   "metadata": {},
   "source": [
    "#### Chapter Three - Prepare to think Statistically"
   ]
  },
  {
   "cell_type": "markdown",
   "id": "1deb4d7e",
   "metadata": {},
   "source": [
    "#### My notes and thoughts\n",
    "\n",
    "> There are two types of variation.   \n",
    "> One type of variation stems from how data is collected or measured.   \n",
    "> This is called measurement variation.   \n",
    "> The second is the randomness underlying the process itself.   \n",
    "> This is called random variation  \n",
    "\n",
    "> \"The difference might seem trivial at first, but this is where statistical  \n",
    "> thinking becomes important. Are decisions being made in response to random variation that can’t be controlled?  \n",
    "> Or is the variation reflective of some true underlying process that, when surfaced correctly, can be controlled?\n",
    "> We all hope for the latter.\"  \n",
    "\n",
    "Oddly Philosophical.\n",
    "\n",
    "Illusion of Quantification  \n",
    "A term for a type of activity that tries to influence an arbitrary number that is inherently flawed due to its variation on how it's measured. \n",
    "> It’s the pursuit of driving metrics without a clear statistical foundation around what they mean  \n",
    "\n",
    "Variance is a thing that should not be underestimated\n",
    "\n",
    "> Underestimating variation causes people to over estimate their confidence in small data.  \n",
    "> This has been coined the “law of small numbers.” It’s “the lingering belief small samples are highly representative of the populations from which they are drawn.” \n",
    "\n",
    "Probability is drill-down, looking at all the infomation from within a bag, and what are the chances of getting certain things from the bag.  \n",
    "Statistics is drill-up, getting something from withint the bag, and thinking what could be the rest inside the bag."
   ]
  },
  {
   "cell_type": "markdown",
   "id": "1ce6d4bc",
   "metadata": {},
   "source": [
    "### End of day one -----"
   ]
  }
 ],
 "metadata": {
  "language_info": {
   "name": "python"
  }
 },
 "nbformat": 4,
 "nbformat_minor": 5
}
